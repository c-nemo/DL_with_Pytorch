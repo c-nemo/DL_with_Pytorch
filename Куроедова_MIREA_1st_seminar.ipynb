{
  "nbformat": 4,
  "nbformat_minor": 0,
  "metadata": {
    "colab": {
      "provenance": [],
      "collapsed_sections": [
        "SE_-SpH-mtFc",
        "mV8n8faxvOQO",
        "W4qhspuX3zOE",
        "mzgpHI4wuaPq",
        "Am-la7kqCDEl",
        "eKr7PQlLke2o",
        "mleBdxygtTPs",
        "_Z2Ot37UODKM"
      ]
    },
    "kernelspec": {
      "name": "python3",
      "display_name": "Python 3"
    },
    "language_info": {
      "name": "python"
    },
    "gpuClass": "standard",
    "accelerator": "GPU"
  },
  "cells": [
    {
      "cell_type": "markdown",
      "source": [
        "# Семинар 1\n",
        "**План семинара:**\n",
        "1. Получение информации об оборудовании\n",
        "2. Библиотека Pytorch\n",
        "  - установка (Windows/Linux(Google Colab); CPU/GPU)\n",
        "  - обзор возможностей и особенностей\n",
        "  - запуск простейших примеров\n",
        "3. Введение в глубокое обучение\n",
        "  - перцептрон (решение практических задач)"
      ],
      "metadata": {
        "id": "EShwaJUpigbf"
      }
    },
    {
      "cell_type": "markdown",
      "source": [
        "# Получение информации об оборудовании"
      ],
      "metadata": {
        "id": "SE_-SpH-mtFc"
      }
    },
    {
      "cell_type": "markdown",
      "source": [
        "**Windows** - GUI\\\n",
        "**Linux** (Google colab) - terminal"
      ],
      "metadata": {
        "id": "lnGz2Eopm3ag"
      }
    },
    {
      "cell_type": "code",
      "source": [
        "# версия Linux\n",
        "!cat /proc/version"
      ],
      "metadata": {
        "colab": {
          "base_uri": "https://localhost:8080/"
        },
        "id": "vPDZJB92omAL",
        "outputId": "779b304d-3ab9-40e7-c49b-f30a3c88bf8d"
      },
      "execution_count": 1,
      "outputs": [
        {
          "output_type": "stream",
          "name": "stdout",
          "text": [
            "Linux version 5.10.133+ (builder@b1018906abc3) (Chromium OS 12.0_pre422132_p20210405-r10 clang version 13.0.0 (/var/tmp/portage/sys-devel/llvm-12.0_pre422132_p20210405-r10/work/llvm-12.0_pre422132_p20210405/clang cd442157cff4aad209ae532cbf031abbe10bc1df), LLD 13.0.0 (/var/tmp/portage/sys-devel/llvm-12.0_pre422132_p20210405-r10/work/llvm-12.0_pre422132_p20210405/lld cd442157cff4aad209ae532cbf031abbe10bc1df)) #1 SMP Fri Aug 26 08:44:51 UTC 2022\n"
          ]
        }
      ]
    },
    {
      "cell_type": "code",
      "source": [
        "# версия дистрибутива Linux\n",
        "!lsb_release -a"
      ],
      "metadata": {
        "colab": {
          "base_uri": "https://localhost:8080/"
        },
        "id": "ePuVTgneo0Rs",
        "outputId": "32f3958e-1ff8-4c19-c92d-15d8a5de0702"
      },
      "execution_count": 2,
      "outputs": [
        {
          "output_type": "stream",
          "name": "stdout",
          "text": [
            "No LSB modules are available.\n",
            "Distributor ID:\tUbuntu\n",
            "Description:\tUbuntu 18.04.6 LTS\n",
            "Release:\t18.04\n",
            "Codename:\tbionic\n"
          ]
        }
      ]
    },
    {
      "cell_type": "code",
      "execution_count": 3,
      "metadata": {
        "id": "eXAC5VIPiJl7",
        "colab": {
          "base_uri": "https://localhost:8080/"
        },
        "outputId": "c8e69f9a-8c63-4377-f357-498cf48a0089"
      },
      "outputs": [
        {
          "output_type": "stream",
          "name": "stdout",
          "text": [
            "Sun Dec  4 18:35:31 2022       \n",
            "+-----------------------------------------------------------------------------+\n",
            "| NVIDIA-SMI 460.32.03    Driver Version: 460.32.03    CUDA Version: 11.2     |\n",
            "|-------------------------------+----------------------+----------------------+\n",
            "| GPU  Name        Persistence-M| Bus-Id        Disp.A | Volatile Uncorr. ECC |\n",
            "| Fan  Temp  Perf  Pwr:Usage/Cap|         Memory-Usage | GPU-Util  Compute M. |\n",
            "|                               |                      |               MIG M. |\n",
            "|===============================+======================+======================|\n",
            "|   0  Tesla T4            Off  | 00000000:00:04.0 Off |                    0 |\n",
            "| N/A   76C    P0    30W /  70W |      0MiB / 15109MiB |      0%      Default |\n",
            "|                               |                      |                  N/A |\n",
            "+-------------------------------+----------------------+----------------------+\n",
            "                                                                               \n",
            "+-----------------------------------------------------------------------------+\n",
            "| Processes:                                                                  |\n",
            "|  GPU   GI   CI        PID   Type   Process name                  GPU Memory |\n",
            "|        ID   ID                                                   Usage      |\n",
            "|=============================================================================|\n",
            "|  No running processes found                                                 |\n",
            "+-----------------------------------------------------------------------------+\n"
          ]
        }
      ],
      "source": [
        "# видеокарта\n",
        "!nvidia-smi"
      ]
    },
    {
      "cell_type": "markdown",
      "source": [
        "CUDA Version в nvidia-smi - это не ваша текущая версия CUDA, а [максимально поддерживаемая версия](https://docs.nvidia.com/cuda/cuda-toolkit-release-notes/index.html) для текущего драйвера видеокарты."
      ],
      "metadata": {
        "id": "CPIo9i8Tx0aX"
      }
    },
    {
      "cell_type": "code",
      "source": [
        "# cuda compiler\n",
        "!nvcc --version"
      ],
      "metadata": {
        "colab": {
          "base_uri": "https://localhost:8080/"
        },
        "id": "TF2LKwK9wsiH",
        "outputId": "fc1a4224-171a-4193-8586-05ba89d9af18"
      },
      "execution_count": 4,
      "outputs": [
        {
          "output_type": "stream",
          "name": "stdout",
          "text": [
            "nvcc: NVIDIA (R) Cuda compiler driver\n",
            "Copyright (c) 2005-2021 NVIDIA Corporation\n",
            "Built on Sun_Feb_14_21:12:58_PST_2021\n",
            "Cuda compilation tools, release 11.2, V11.2.152\n",
            "Build cuda_11.2.r11.2/compiler.29618528_0\n"
          ]
        }
      ]
    },
    {
      "cell_type": "code",
      "source": [
        "# процессор\n",
        "!cat /proc/cpuinfo"
      ],
      "metadata": {
        "colab": {
          "base_uri": "https://localhost:8080/"
        },
        "id": "W1vqoHiFnzCk",
        "outputId": "1c9f3df3-62c8-483b-ee66-2d6fd4c36acf"
      },
      "execution_count": 5,
      "outputs": [
        {
          "output_type": "stream",
          "name": "stdout",
          "text": [
            "processor\t: 0\n",
            "vendor_id\t: GenuineIntel\n",
            "cpu family\t: 6\n",
            "model\t\t: 79\n",
            "model name\t: Intel(R) Xeon(R) CPU @ 2.20GHz\n",
            "stepping\t: 0\n",
            "microcode\t: 0x1\n",
            "cpu MHz\t\t: 2199.998\n",
            "cache size\t: 56320 KB\n",
            "physical id\t: 0\n",
            "siblings\t: 2\n",
            "core id\t\t: 0\n",
            "cpu cores\t: 1\n",
            "apicid\t\t: 0\n",
            "initial apicid\t: 0\n",
            "fpu\t\t: yes\n",
            "fpu_exception\t: yes\n",
            "cpuid level\t: 13\n",
            "wp\t\t: yes\n",
            "flags\t\t: fpu vme de pse tsc msr pae mce cx8 apic sep mtrr pge mca cmov pat pse36 clflush mmx fxsr sse sse2 ss ht syscall nx pdpe1gb rdtscp lm constant_tsc rep_good nopl xtopology nonstop_tsc cpuid tsc_known_freq pni pclmulqdq ssse3 fma cx16 pcid sse4_1 sse4_2 x2apic movbe popcnt aes xsave avx f16c rdrand hypervisor lahf_lm abm 3dnowprefetch invpcid_single ssbd ibrs ibpb stibp fsgsbase tsc_adjust bmi1 hle avx2 smep bmi2 erms invpcid rtm rdseed adx smap xsaveopt arat md_clear arch_capabilities\n",
            "bugs\t\t: cpu_meltdown spectre_v1 spectre_v2 spec_store_bypass l1tf mds swapgs taa mmio_stale_data retbleed\n",
            "bogomips\t: 4399.99\n",
            "clflush size\t: 64\n",
            "cache_alignment\t: 64\n",
            "address sizes\t: 46 bits physical, 48 bits virtual\n",
            "power management:\n",
            "\n",
            "processor\t: 1\n",
            "vendor_id\t: GenuineIntel\n",
            "cpu family\t: 6\n",
            "model\t\t: 79\n",
            "model name\t: Intel(R) Xeon(R) CPU @ 2.20GHz\n",
            "stepping\t: 0\n",
            "microcode\t: 0x1\n",
            "cpu MHz\t\t: 2199.998\n",
            "cache size\t: 56320 KB\n",
            "physical id\t: 0\n",
            "siblings\t: 2\n",
            "core id\t\t: 0\n",
            "cpu cores\t: 1\n",
            "apicid\t\t: 1\n",
            "initial apicid\t: 1\n",
            "fpu\t\t: yes\n",
            "fpu_exception\t: yes\n",
            "cpuid level\t: 13\n",
            "wp\t\t: yes\n",
            "flags\t\t: fpu vme de pse tsc msr pae mce cx8 apic sep mtrr pge mca cmov pat pse36 clflush mmx fxsr sse sse2 ss ht syscall nx pdpe1gb rdtscp lm constant_tsc rep_good nopl xtopology nonstop_tsc cpuid tsc_known_freq pni pclmulqdq ssse3 fma cx16 pcid sse4_1 sse4_2 x2apic movbe popcnt aes xsave avx f16c rdrand hypervisor lahf_lm abm 3dnowprefetch invpcid_single ssbd ibrs ibpb stibp fsgsbase tsc_adjust bmi1 hle avx2 smep bmi2 erms invpcid rtm rdseed adx smap xsaveopt arat md_clear arch_capabilities\n",
            "bugs\t\t: cpu_meltdown spectre_v1 spectre_v2 spec_store_bypass l1tf mds swapgs taa mmio_stale_data retbleed\n",
            "bogomips\t: 4399.99\n",
            "clflush size\t: 64\n",
            "cache_alignment\t: 64\n",
            "address sizes\t: 46 bits physical, 48 bits virtual\n",
            "power management:\n",
            "\n"
          ]
        }
      ]
    },
    {
      "cell_type": "code",
      "source": [
        "# процессор\n",
        "!lscpu"
      ],
      "metadata": {
        "colab": {
          "base_uri": "https://localhost:8080/"
        },
        "id": "_q3ACTnJoMJU",
        "outputId": "5310263d-5b90-4673-f148-606639a14dda"
      },
      "execution_count": 6,
      "outputs": [
        {
          "output_type": "stream",
          "name": "stdout",
          "text": [
            "Architecture:        x86_64\n",
            "CPU op-mode(s):      32-bit, 64-bit\n",
            "Byte Order:          Little Endian\n",
            "CPU(s):              2\n",
            "On-line CPU(s) list: 0,1\n",
            "Thread(s) per core:  2\n",
            "Core(s) per socket:  1\n",
            "Socket(s):           1\n",
            "NUMA node(s):        1\n",
            "Vendor ID:           GenuineIntel\n",
            "CPU family:          6\n",
            "Model:               79\n",
            "Model name:          Intel(R) Xeon(R) CPU @ 2.20GHz\n",
            "Stepping:            0\n",
            "CPU MHz:             2199.998\n",
            "BogoMIPS:            4399.99\n",
            "Hypervisor vendor:   KVM\n",
            "Virtualization type: full\n",
            "L1d cache:           32K\n",
            "L1i cache:           32K\n",
            "L2 cache:            256K\n",
            "L3 cache:            56320K\n",
            "NUMA node0 CPU(s):   0,1\n",
            "Flags:               fpu vme de pse tsc msr pae mce cx8 apic sep mtrr pge mca cmov pat pse36 clflush mmx fxsr sse sse2 ss ht syscall nx pdpe1gb rdtscp lm constant_tsc rep_good nopl xtopology nonstop_tsc cpuid tsc_known_freq pni pclmulqdq ssse3 fma cx16 pcid sse4_1 sse4_2 x2apic movbe popcnt aes xsave avx f16c rdrand hypervisor lahf_lm abm 3dnowprefetch invpcid_single ssbd ibrs ibpb stibp fsgsbase tsc_adjust bmi1 hle avx2 smep bmi2 erms invpcid rtm rdseed adx smap xsaveopt arat md_clear arch_capabilities\n"
          ]
        }
      ]
    },
    {
      "cell_type": "code",
      "source": [
        "# оперативная память\n",
        "!grep MemTotal /proc/meminfo"
      ],
      "metadata": {
        "colab": {
          "base_uri": "https://localhost:8080/"
        },
        "id": "e_AQVQQaoVFR",
        "outputId": "873dadcb-8732-48c1-fadf-c6cc7263ad0a"
      },
      "execution_count": 7,
      "outputs": [
        {
          "output_type": "stream",
          "name": "stdout",
          "text": [
            "MemTotal:       13297220 kB\n"
          ]
        }
      ]
    },
    {
      "cell_type": "code",
      "source": [
        "# диск\n",
        "!df -h"
      ],
      "metadata": {
        "colab": {
          "base_uri": "https://localhost:8080/"
        },
        "id": "58uYqrEBqrqj",
        "outputId": "cf596774-8540-4e00-ea86-4dc7c19e5409"
      },
      "execution_count": 8,
      "outputs": [
        {
          "output_type": "stream",
          "name": "stdout",
          "text": [
            "Filesystem      Size  Used Avail Use% Mounted on\n",
            "overlay          79G   23G   56G  29% /\n",
            "tmpfs            64M     0   64M   0% /dev\n",
            "shm             5.7G     0  5.7G   0% /dev/shm\n",
            "/dev/root       2.0G  1.1G  910M  54% /sbin/docker-init\n",
            "/dev/sda1        75G   41G   35G  55% /opt/bin/.nvidia\n",
            "tmpfs           6.4G   52K  6.4G   1% /var/colab\n",
            "tmpfs           6.4G     0  6.4G   0% /proc/acpi\n",
            "tmpfs           6.4G     0  6.4G   0% /proc/scsi\n",
            "tmpfs           6.4G     0  6.4G   0% /sys/firmware\n"
          ]
        }
      ]
    },
    {
      "cell_type": "code",
      "source": [
        "!du -h | sort -h"
      ],
      "metadata": {
        "id": "6AZaA5fOwXXC",
        "colab": {
          "base_uri": "https://localhost:8080/"
        },
        "outputId": "c5fe451c-0514-4c63-ec74-1bdbca4de9e1"
      },
      "execution_count": 9,
      "outputs": [
        {
          "output_type": "stream",
          "name": "stdout",
          "text": [
            "8.0K\t./.config/configurations\n",
            "72K\t./.config/logs/2022.12.01\n",
            "76K\t./.config/logs\n",
            "108K\t./.config\n",
            "55M\t.\n",
            "55M\t./sample_data\n"
          ]
        }
      ]
    },
    {
      "cell_type": "code",
      "source": [
        "# права в Google Colab\n",
        "!whoami"
      ],
      "metadata": {
        "colab": {
          "base_uri": "https://localhost:8080/"
        },
        "id": "gBYRJ67qqMJ2",
        "outputId": "c6008d58-d167-48eb-c3d0-1a8dcd0a581e"
      },
      "execution_count": 10,
      "outputs": [
        {
          "output_type": "stream",
          "name": "stdout",
          "text": [
            "root\n"
          ]
        }
      ]
    },
    {
      "cell_type": "markdown",
      "source": [
        "# Библиотека Pytorch"
      ],
      "metadata": {
        "id": "xJef-8rXrMR2"
      }
    },
    {
      "cell_type": "markdown",
      "source": [
        "## Установка"
      ],
      "metadata": {
        "id": "mV8n8faxvOQO"
      }
    },
    {
      "cell_type": "markdown",
      "source": [
        "Ссылки для установки под ваше оборудование можно найти [тут](https://pytorch.org/get-started/locally/)."
      ],
      "metadata": {
        "id": "ZOyzr4Vp2vgZ"
      }
    },
    {
      "cell_type": "code",
      "source": [
        "import torch"
      ],
      "metadata": {
        "id": "b_dqa87wrRMu"
      },
      "execution_count": 11,
      "outputs": []
    },
    {
      "cell_type": "code",
      "source": [
        "torch.cuda.is_available()"
      ],
      "metadata": {
        "colab": {
          "base_uri": "https://localhost:8080/"
        },
        "id": "2vcNoQZ4zVJG",
        "outputId": "23a6f64a-707c-4ec1-839e-2bf66b631c91"
      },
      "execution_count": 12,
      "outputs": [
        {
          "output_type": "execute_result",
          "data": {
            "text/plain": [
              "True"
            ]
          },
          "metadata": {},
          "execution_count": 12
        }
      ]
    },
    {
      "cell_type": "code",
      "source": [
        "!python -m pip list | grep torch"
      ],
      "metadata": {
        "colab": {
          "base_uri": "https://localhost:8080/"
        },
        "id": "Fs_NS9SKzZeH",
        "outputId": "4da0bd3e-6b5f-4eb7-fac6-44855ab7a52c"
      },
      "execution_count": 13,
      "outputs": [
        {
          "output_type": "stream",
          "name": "stdout",
          "text": [
            "pytorch-lightning             1.8.3.post1\n",
            "torch                         1.12.1+cu113\n",
            "torchaudio                    0.12.1+cu113\n",
            "torchmetrics                  0.11.0\n",
            "torchsummary                  1.5.1\n",
            "torchtext                     0.13.1\n",
            "torchvision                   0.13.1+cu113\n"
          ]
        }
      ]
    },
    {
      "cell_type": "markdown",
      "source": [
        "## Обзор возможностей и особенностей"
      ],
      "metadata": {
        "id": "W4qhspuX3zOE"
      }
    },
    {
      "cell_type": "markdown",
      "source": [
        "## Тензоры"
      ],
      "metadata": {
        "id": "mzgpHI4wuaPq"
      }
    },
    {
      "cell_type": "code",
      "source": [
        "a = torch.Tensor([1,2,3])\n",
        "a"
      ],
      "metadata": {
        "colab": {
          "base_uri": "https://localhost:8080/"
        },
        "id": "gZ4nzBuys7an",
        "outputId": "bda95caf-6a56-4feb-b0cc-d768a669ecc4"
      },
      "execution_count": 14,
      "outputs": [
        {
          "output_type": "execute_result",
          "data": {
            "text/plain": [
              "tensor([1., 2., 3.])"
            ]
          },
          "metadata": {},
          "execution_count": 14
        }
      ]
    },
    {
      "cell_type": "code",
      "source": [
        "b = torch.tensor([1,2,3])\n",
        "b"
      ],
      "metadata": {
        "colab": {
          "base_uri": "https://localhost:8080/"
        },
        "id": "JLpBNC4Ys-Eu",
        "outputId": "29c06f2c-a37f-47c4-96a8-691fc349d53a"
      },
      "execution_count": 15,
      "outputs": [
        {
          "output_type": "execute_result",
          "data": {
            "text/plain": [
              "tensor([1, 2, 3])"
            ]
          },
          "metadata": {},
          "execution_count": 15
        }
      ]
    },
    {
      "cell_type": "markdown",
      "source": [
        "Типы данных"
      ],
      "metadata": {
        "id": "tNynZQ_2uc8l"
      }
    },
    {
      "cell_type": "code",
      "source": [
        "a.dtype, b.dtype"
      ],
      "metadata": {
        "colab": {
          "base_uri": "https://localhost:8080/"
        },
        "id": "evWkp5s7tllG",
        "outputId": "a3c82db7-cdec-448a-f27a-cd34bdeb2fa7"
      },
      "execution_count": 16,
      "outputs": [
        {
          "output_type": "execute_result",
          "data": {
            "text/plain": [
              "(torch.float32, torch.int64)"
            ]
          },
          "metadata": {},
          "execution_count": 16
        }
      ]
    },
    {
      "cell_type": "markdown",
      "source": [
        "Перевод данных в другой тип"
      ],
      "metadata": {
        "id": "d-ZmOf4Eufk3"
      }
    },
    {
      "cell_type": "code",
      "source": [
        "c = b.float()\n",
        "\n",
        "print(c, c.dtype)\n",
        "\n",
        "print(c.int(), c.int().dtype)\n",
        "print(c.long(), c.long().dtype)\n",
        "print(c.double(), c.double().dtype)"
      ],
      "metadata": {
        "colab": {
          "base_uri": "https://localhost:8080/"
        },
        "id": "KqTujW0xto6G",
        "outputId": "f421b265-aa2c-430d-ea1e-302ef066fa97"
      },
      "execution_count": 17,
      "outputs": [
        {
          "output_type": "stream",
          "name": "stdout",
          "text": [
            "tensor([1., 2., 3.]) torch.float32\n",
            "tensor([1, 2, 3], dtype=torch.int32) torch.int32\n",
            "tensor([1, 2, 3]) torch.int64\n",
            "tensor([1., 2., 3.], dtype=torch.float64) torch.float64\n"
          ]
        }
      ]
    },
    {
      "cell_type": "code",
      "source": [
        "x = torch.rand(2, 3)\n",
        "print(x) \n",
        "print(x.device)\n",
        "print(x.dtype)"
      ],
      "metadata": {
        "colab": {
          "base_uri": "https://localhost:8080/"
        },
        "id": "KCHM15UEtRY0",
        "outputId": "40671c3a-f053-4e83-8707-b23c6c9674f5"
      },
      "execution_count": 18,
      "outputs": [
        {
          "output_type": "stream",
          "name": "stdout",
          "text": [
            "tensor([[0.0262, 0.5423, 0.0660],\n",
            "        [0.3721, 0.3946, 0.5877]])\n",
            "cpu\n",
            "torch.float32\n"
          ]
        }
      ]
    },
    {
      "cell_type": "markdown",
      "source": [
        "## Воспроизводимость результатов"
      ],
      "metadata": {
        "id": "Am-la7kqCDEl"
      }
    },
    {
      "cell_type": "code",
      "source": [
        "# для воспроизводимости результатов\n",
        "# не изменяйте и не удаляйте этот код\n",
        "from numpy.random import seed\n",
        "import random\n",
        "\n",
        "random.seed(0)\n",
        "seed(0)\n",
        "torch.manual_seed(0)"
      ],
      "metadata": {
        "id": "DT_4H6vQuWuk",
        "colab": {
          "base_uri": "https://localhost:8080/"
        },
        "outputId": "43a29707-679e-4c72-8734-a73d8932ac6e"
      },
      "execution_count": 19,
      "outputs": [
        {
          "output_type": "execute_result",
          "data": {
            "text/plain": [
              "<torch._C.Generator at 0x7f7fffa43db0>"
            ]
          },
          "metadata": {},
          "execution_count": 19
        }
      ]
    },
    {
      "cell_type": "code",
      "source": [
        "!pip install pytorch-lightning -qqq"
      ],
      "metadata": {
        "id": "FqnA3ZPhkGul"
      },
      "execution_count": 20,
      "outputs": []
    },
    {
      "cell_type": "code",
      "source": [
        "import pytorch_lightning as pl"
      ],
      "metadata": {
        "id": "M2C8FkatkN7D"
      },
      "execution_count": 21,
      "outputs": []
    },
    {
      "cell_type": "code",
      "source": [
        "from pytorch_lightning import seed_everything"
      ],
      "metadata": {
        "id": "lLO_HB6ukaKg"
      },
      "execution_count": 22,
      "outputs": []
    },
    {
      "cell_type": "markdown",
      "source": [
        "Function that sets seed for pseudo-random number generators in: pytorch, numpy, python.random"
      ],
      "metadata": {
        "id": "_fRUnIZCkvhx"
      }
    },
    {
      "cell_type": "code",
      "source": [
        "seed_everything(0, workers=True)                "
      ],
      "metadata": {
        "colab": {
          "base_uri": "https://localhost:8080/"
        },
        "id": "LGhazHGdkhir",
        "outputId": "14e11289-c316-42cb-a438-af1dea72aeaa"
      },
      "execution_count": 23,
      "outputs": [
        {
          "output_type": "stream",
          "name": "stderr",
          "text": [
            "INFO:lightning_lite.utilities.seed:Global seed set to 0\n"
          ]
        },
        {
          "output_type": "execute_result",
          "data": {
            "text/plain": [
              "0"
            ]
          },
          "metadata": {},
          "execution_count": 23
        }
      ]
    },
    {
      "cell_type": "markdown",
      "source": [
        "Подробнее можно прочитать [тут](https://pytorch.org/docs/stable/notes/randomness.html)."
      ],
      "metadata": {
        "id": "P8TfCik9DFMf"
      }
    },
    {
      "cell_type": "markdown",
      "source": [
        "## CUDA"
      ],
      "metadata": {
        "id": "eKr7PQlLke2o"
      }
    },
    {
      "cell_type": "code",
      "source": [
        "# проверка доступности видеокарты, выбор устройства CPU или GPU\n",
        "device = torch.device('cuda' if torch.cuda.is_available() else 'cpu')\n",
        "device"
      ],
      "metadata": {
        "colab": {
          "base_uri": "https://localhost:8080/"
        },
        "id": "es3dbo7murKO",
        "outputId": "53f6d0ef-21b9-4c54-f918-b1340b93019b"
      },
      "execution_count": 24,
      "outputs": [
        {
          "output_type": "execute_result",
          "data": {
            "text/plain": [
              "device(type='cuda')"
            ]
          },
          "metadata": {},
          "execution_count": 24
        }
      ]
    },
    {
      "cell_type": "markdown",
      "source": [
        "Данные нужно вручную переносить в видеопамять -- метод cuda. Перенос в оперативную память -- cpu. Альтернатива -- использование метода `.to(device)`. По умолчанию данные на cpu."
      ],
      "metadata": {
        "id": "3fTPaJAaC25o"
      }
    },
    {
      "cell_type": "code",
      "source": [
        "d = c.to(device)"
      ],
      "metadata": {
        "id": "t05HLcTEur0L"
      },
      "execution_count": 50,
      "outputs": []
    },
    {
      "cell_type": "code",
      "source": [
        "import torch"
      ],
      "metadata": {
        "id": "9UXt23O4mx54"
      },
      "execution_count": 25,
      "outputs": []
    },
    {
      "cell_type": "code",
      "source": [
        "torch.cuda.get_device_properties(0)"
      ],
      "metadata": {
        "colab": {
          "base_uri": "https://localhost:8080/"
        },
        "id": "Y2VjYSXykhKp",
        "outputId": "d3156016-2d04-46e1-bb7d-86d5fc3d83c1"
      },
      "execution_count": 52,
      "outputs": [
        {
          "output_type": "execute_result",
          "data": {
            "text/plain": [
              "_CudaDeviceProperties(name='Tesla T4', major=7, minor=5, total_memory=15109MB, multi_processor_count=40)"
            ]
          },
          "metadata": {},
          "execution_count": 52
        }
      ]
    },
    {
      "cell_type": "code",
      "source": [
        "!nvidia-smi"
      ],
      "metadata": {
        "colab": {
          "base_uri": "https://localhost:8080/"
        },
        "id": "znSVINf1oN9s",
        "outputId": "3bc09ec9-d0ea-4052-c30a-d9b081704114"
      },
      "execution_count": 53,
      "outputs": [
        {
          "output_type": "stream",
          "name": "stdout",
          "text": [
            "Sun Dec  4 17:58:26 2022       \n",
            "+-----------------------------------------------------------------------------+\n",
            "| NVIDIA-SMI 460.32.03    Driver Version: 460.32.03    CUDA Version: 11.2     |\n",
            "|-------------------------------+----------------------+----------------------+\n",
            "| GPU  Name        Persistence-M| Bus-Id        Disp.A | Volatile Uncorr. ECC |\n",
            "| Fan  Temp  Perf  Pwr:Usage/Cap|         Memory-Usage | GPU-Util  Compute M. |\n",
            "|                               |                      |               MIG M. |\n",
            "|===============================+======================+======================|\n",
            "|   0  Tesla T4            Off  | 00000000:00:04.0 Off |                    0 |\n",
            "| N/A   47C    P0    26W /  70W |    612MiB / 15109MiB |      0%      Default |\n",
            "|                               |                      |                  N/A |\n",
            "+-------------------------------+----------------------+----------------------+\n",
            "                                                                               \n",
            "+-----------------------------------------------------------------------------+\n",
            "| Processes:                                                                  |\n",
            "|  GPU   GI   CI        PID   Type   Process name                  GPU Memory |\n",
            "|        ID   ID                                                   Usage      |\n",
            "|=============================================================================|\n",
            "+-----------------------------------------------------------------------------+\n"
          ]
        }
      ]
    },
    {
      "cell_type": "code",
      "source": [
        "def allocate_empty_tensor(dim_size):\n",
        "  a=torch.zeros(4096,dim_size,dtype=torch.float32,device='cuda')"
      ],
      "metadata": {
        "id": "BWsfUTi0oQnG"
      },
      "execution_count": 54,
      "outputs": []
    },
    {
      "cell_type": "code",
      "source": [
        " allocate_empty_tensor(4048)"
      ],
      "metadata": {
        "id": "pvUBeD9-phd2"
      },
      "execution_count": 65,
      "outputs": []
    },
    {
      "cell_type": "code",
      "source": [
        "torch.cuda.memory_allocated()"
      ],
      "metadata": {
        "colab": {
          "base_uri": "https://localhost:8080/"
        },
        "id": "qpJLSkedpdVK",
        "outputId": "588c76b9-abbf-4eae-96f6-fc34ad24bf7b"
      },
      "execution_count": 56,
      "outputs": [
        {
          "output_type": "execute_result",
          "data": {
            "text/plain": [
              "512"
            ]
          },
          "metadata": {},
          "execution_count": 56
        }
      ]
    },
    {
      "cell_type": "code",
      "source": [
        "torch.cuda.memory_reserved()"
      ],
      "metadata": {
        "colab": {
          "base_uri": "https://localhost:8080/"
        },
        "id": "PNbeLhzbp8Ch",
        "outputId": "4c1b3e64-989c-4a1c-f770-443d560eb343"
      },
      "execution_count": 57,
      "outputs": [
        {
          "output_type": "execute_result",
          "data": {
            "text/plain": [
              "69206016"
            ]
          },
          "metadata": {},
          "execution_count": 57
        }
      ]
    },
    {
      "cell_type": "code",
      "source": [
        "!nvidia-smi"
      ],
      "metadata": {
        "colab": {
          "base_uri": "https://localhost:8080/"
        },
        "id": "mN8IHOIcplaL",
        "outputId": "edf74536-8e41-481b-b685-0bc66572feb1"
      },
      "execution_count": 58,
      "outputs": [
        {
          "output_type": "stream",
          "name": "stdout",
          "text": [
            "Sun Dec  4 17:58:26 2022       \n",
            "+-----------------------------------------------------------------------------+\n",
            "| NVIDIA-SMI 460.32.03    Driver Version: 460.32.03    CUDA Version: 11.2     |\n",
            "|-------------------------------+----------------------+----------------------+\n",
            "| GPU  Name        Persistence-M| Bus-Id        Disp.A | Volatile Uncorr. ECC |\n",
            "| Fan  Temp  Perf  Pwr:Usage/Cap|         Memory-Usage | GPU-Util  Compute M. |\n",
            "|                               |                      |               MIG M. |\n",
            "|===============================+======================+======================|\n",
            "|   0  Tesla T4            Off  | 00000000:00:04.0 Off |                    0 |\n",
            "| N/A   47C    P0    26W /  70W |    676MiB / 15109MiB |      0%      Default |\n",
            "|                               |                      |                  N/A |\n",
            "+-------------------------------+----------------------+----------------------+\n",
            "                                                                               \n",
            "+-----------------------------------------------------------------------------+\n",
            "| Processes:                                                                  |\n",
            "|  GPU   GI   CI        PID   Type   Process name                  GPU Memory |\n",
            "|        ID   ID                                                   Usage      |\n",
            "|=============================================================================|\n",
            "+-----------------------------------------------------------------------------+\n"
          ]
        }
      ]
    },
    {
      "cell_type": "code",
      "source": [
        "allocate_empty_tensor(3072)"
      ],
      "metadata": {
        "id": "3yNsBe_Apxlv"
      },
      "execution_count": 59,
      "outputs": []
    },
    {
      "cell_type": "code",
      "source": [
        "torch.cuda.memory_reserved()"
      ],
      "metadata": {
        "colab": {
          "base_uri": "https://localhost:8080/"
        },
        "id": "Gbj8FG_GqFUG",
        "outputId": "55c4082e-9c8a-4064-dd61-17c97171cc4c"
      },
      "execution_count": 60,
      "outputs": [
        {
          "output_type": "execute_result",
          "data": {
            "text/plain": [
              "69206016"
            ]
          },
          "metadata": {},
          "execution_count": 60
        }
      ]
    },
    {
      "cell_type": "code",
      "source": [
        "!nvidia-smi"
      ],
      "metadata": {
        "colab": {
          "base_uri": "https://localhost:8080/"
        },
        "id": "99PZakMWp3ZR",
        "outputId": "76688d64-6ac7-48bf-879b-fb2d94e1cfea"
      },
      "execution_count": 61,
      "outputs": [
        {
          "output_type": "stream",
          "name": "stdout",
          "text": [
            "Sun Dec  4 17:58:27 2022       \n",
            "+-----------------------------------------------------------------------------+\n",
            "| NVIDIA-SMI 460.32.03    Driver Version: 460.32.03    CUDA Version: 11.2     |\n",
            "|-------------------------------+----------------------+----------------------+\n",
            "| GPU  Name        Persistence-M| Bus-Id        Disp.A | Volatile Uncorr. ECC |\n",
            "| Fan  Temp  Perf  Pwr:Usage/Cap|         Memory-Usage | GPU-Util  Compute M. |\n",
            "|                               |                      |               MIG M. |\n",
            "|===============================+======================+======================|\n",
            "|   0  Tesla T4            Off  | 00000000:00:04.0 Off |                    0 |\n",
            "| N/A   47C    P0    26W /  70W |    676MiB / 15109MiB |      0%      Default |\n",
            "|                               |                      |                  N/A |\n",
            "+-------------------------------+----------------------+----------------------+\n",
            "                                                                               \n",
            "+-----------------------------------------------------------------------------+\n",
            "| Processes:                                                                  |\n",
            "|  GPU   GI   CI        PID   Type   Process name                  GPU Memory |\n",
            "|        ID   ID                                                   Usage      |\n",
            "|=============================================================================|\n",
            "+-----------------------------------------------------------------------------+\n"
          ]
        }
      ]
    },
    {
      "cell_type": "code",
      "source": [
        "torch.cuda.empty_cache()\n",
        "torch.cuda.memory_reserved()"
      ],
      "metadata": {
        "colab": {
          "base_uri": "https://localhost:8080/"
        },
        "id": "hIAzc2PFqLRj",
        "outputId": "1ced87da-35e0-435c-baa9-8390c326c247"
      },
      "execution_count": 62,
      "outputs": [
        {
          "output_type": "execute_result",
          "data": {
            "text/plain": [
              "2097152"
            ]
          },
          "metadata": {},
          "execution_count": 62
        }
      ]
    },
    {
      "cell_type": "code",
      "source": [
        "!nvidia-smi"
      ],
      "metadata": {
        "colab": {
          "base_uri": "https://localhost:8080/"
        },
        "id": "LlhvCLl0qNil",
        "outputId": "c3d4e84c-35fc-4a5d-f8a0-2ed5802879e0"
      },
      "execution_count": 63,
      "outputs": [
        {
          "output_type": "stream",
          "name": "stdout",
          "text": [
            "Sun Dec  4 17:58:27 2022       \n",
            "+-----------------------------------------------------------------------------+\n",
            "| NVIDIA-SMI 460.32.03    Driver Version: 460.32.03    CUDA Version: 11.2     |\n",
            "|-------------------------------+----------------------+----------------------+\n",
            "| GPU  Name        Persistence-M| Bus-Id        Disp.A | Volatile Uncorr. ECC |\n",
            "| Fan  Temp  Perf  Pwr:Usage/Cap|         Memory-Usage | GPU-Util  Compute M. |\n",
            "|                               |                      |               MIG M. |\n",
            "|===============================+======================+======================|\n",
            "|   0  Tesla T4            Off  | 00000000:00:04.0 Off |                    0 |\n",
            "| N/A   47C    P0    26W /  70W |    612MiB / 15109MiB |      0%      Default |\n",
            "|                               |                      |                  N/A |\n",
            "+-------------------------------+----------------------+----------------------+\n",
            "                                                                               \n",
            "+-----------------------------------------------------------------------------+\n",
            "| Processes:                                                                  |\n",
            "|  GPU   GI   CI        PID   Type   Process name                  GPU Memory |\n",
            "|        ID   ID                                                   Usage      |\n",
            "|=============================================================================|\n",
            "+-----------------------------------------------------------------------------+\n"
          ]
        }
      ]
    },
    {
      "cell_type": "code",
      "source": [
        "allocate_empty_tensor(600000)\n",
        "torch.cuda.memory_reserved()"
      ],
      "metadata": {
        "colab": {
          "base_uri": "https://localhost:8080/"
        },
        "id": "AmgQgvNKrBt5",
        "outputId": "d3aa00bb-34c8-4ad4-93dc-a41eb07f2c01"
      },
      "execution_count": 64,
      "outputs": [
        {
          "output_type": "execute_result",
          "data": {
            "text/plain": [
              "9833545728"
            ]
          },
          "metadata": {},
          "execution_count": 64
        }
      ]
    },
    {
      "cell_type": "markdown",
      "source": [
        "## Точность"
      ],
      "metadata": {
        "id": "mleBdxygtTPs"
      }
    },
    {
      "cell_type": "code",
      "source": [
        "torch.manual_seed(1337)\n",
        "x = torch.randn(5000, 5000)\n",
        "\n",
        "def matrix_power(x):\n",
        "  y = x @ x @ x @ x @ x @ x\n",
        "  return (y).sum().item()\n",
        "\n",
        "print(matrix_power(x))\n",
        "print(matrix_power(x.cuda()))"
      ],
      "metadata": {
        "colab": {
          "base_uri": "https://localhost:8080/"
        },
        "id": "DjHSkmVCtVy9",
        "outputId": "0cc793ba-0cfb-4730-b31f-702c048b467f"
      },
      "execution_count": null,
      "outputs": [
        {
          "output_type": "stream",
          "name": "stdout",
          "text": [
            "27654770130944.0\n",
            "27654807879680.0\n"
          ]
        }
      ]
    },
    {
      "cell_type": "code",
      "source": [
        "print(matrix_power(x.numpy()))\n",
        "np.linalg.matrix_power(x.numpy(),6).sum()"
      ],
      "metadata": {
        "id": "Beplf35tnJ5x"
      },
      "execution_count": null,
      "outputs": []
    },
    {
      "cell_type": "markdown",
      "source": [
        "Takeaway: numerical precision of floating point computations can vary between libraries, environments and devices, and from the user side, it is often hard to resolve this issue altogether. Usually, this happens due to a different summation order in code or due to inherent nondeterminism of hardware.\n",
        "\n",
        "However, note that the relative error is small enough, which makes such blatant discrepancies less of a problem in regular deep learning code.\n"
      ],
      "metadata": {
        "id": "Dc1_1MmXnNTP"
      }
    },
    {
      "cell_type": "markdown",
      "source": [
        "**Текст, выделенный полужирным шрифтом**## Нейроны и линейные слои"
      ],
      "metadata": {
        "id": "64d_Ywznwgbn"
      }
    },
    {
      "cell_type": "markdown",
      "source": [
        "![alt text](https://drive.google.com/uc?export=view&id=1k96ch-5lAGYrfBk4xgoty93xy-GP2bhr)\n"
      ],
      "metadata": {
        "id": "-OBSxEORsEMG"
      }
    },
    {
      "cell_type": "markdown",
      "source": [
        "![alt text](https://drive.google.com/uc?export=view&id=1ORawq1pZJ7a2z7vUD2PPyLELkOHoAB51)"
      ],
      "metadata": {
        "id": "4kiuzSRBQAte"
      }
    },
    {
      "cell_type": "markdown",
      "source": [
        "![изображение.png](data:image/png;base64,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)"
      ],
      "metadata": {
        "id": "TEFP_hPO5MO5"
      }
    },
    {
      "cell_type": "markdown",
      "source": [
        "![изображение.png](data:image/png;base64,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)"
      ],
      "metadata": {
        "id": "_gZo-8fW3PLu"
      }
    },
    {
      "cell_type": "code",
      "source": [
        "batch_size = 2 # Количество покупателей\n",
        "w = 4          # Количество существующих товаров\n",
        "m = 3          # Количество существующих магазинов\n",
        "\n",
        "# Матрица покупателей\n",
        "X = torch.rand(batch_size, w)\n",
        "\n",
        "# Матрица цен в магазине\n",
        "W = torch.rand(m,w)\n",
        "\n",
        "# Цена за топливо\n",
        "b = torch.rand(m)\n",
        "\n",
        "print(X.shape, W.shape, b.shape)\n",
        "\n",
        "print(X)\n",
        "\n",
        "answer = X @ W.T + b\n",
        "answer.shape"
      ],
      "metadata": {
        "colab": {
          "base_uri": "https://localhost:8080/"
        },
        "id": "nSl2PWA9JUpE",
        "outputId": "46ea92a4-4bce-48a3-ca0f-1cde1c26539c"
      },
      "execution_count": null,
      "outputs": [
        {
          "output_type": "stream",
          "name": "stdout",
          "text": [
            "torch.Size([2, 4]) torch.Size([3, 4]) torch.Size([3])\n",
            "tensor([[0.5997, 0.7686, 0.8438, 0.6866],\n",
            "        [0.9745, 0.5593, 0.4227, 0.4468]])\n"
          ]
        },
        {
          "output_type": "execute_result",
          "data": {
            "text/plain": [
              "torch.Size([2, 3])"
            ]
          },
          "metadata": {},
          "execution_count": 52
        }
      ]
    },
    {
      "cell_type": "code",
      "source": [
        "linear = torch.nn.Linear(4, 3)\n",
        "out = linear(X)\n",
        "out.shape"
      ],
      "metadata": {
        "colab": {
          "base_uri": "https://localhost:8080/"
        },
        "id": "fI3aho-92ik5",
        "outputId": "8b8d60b7-c9d3-4db8-ca57-5d15126c5c9a"
      },
      "execution_count": null,
      "outputs": [
        {
          "output_type": "execute_result",
          "data": {
            "text/plain": [
              "torch.Size([2, 3])"
            ]
          },
          "metadata": {},
          "execution_count": 56
        }
      ]
    },
    {
      "cell_type": "code",
      "source": [
        "linear.weight.data.shape"
      ],
      "metadata": {
        "colab": {
          "base_uri": "https://localhost:8080/"
        },
        "id": "c4xuSW9EuxAx",
        "outputId": "3b694c23-17ad-4f33-b02a-8ff19003f586"
      },
      "execution_count": null,
      "outputs": [
        {
          "output_type": "execute_result",
          "data": {
            "text/plain": [
              "torch.Size([3, 4])"
            ]
          },
          "metadata": {},
          "execution_count": 57
        }
      ]
    },
    {
      "cell_type": "markdown",
      "source": [
        "### Встроенные слои"
      ],
      "metadata": {
        "id": "YS4WszpAvJl4"
      }
    },
    {
      "cell_type": "code",
      "source": [
        "from torch import nn # модуль с базовыми слоями\n",
        "import torch.nn.functional as F # модуль с базовыми функциями"
      ],
      "metadata": {
        "id": "N5BaifEM4rVz"
      },
      "execution_count": 26,
      "outputs": []
    },
    {
      "cell_type": "code",
      "source": [
        "dir(nn)[:10]"
      ],
      "metadata": {
        "colab": {
          "base_uri": "https://localhost:8080/"
        },
        "id": "UCzQK0As5BQM",
        "outputId": "302d0452-b2db-47d2-e053-3018842a81d6"
      },
      "execution_count": null,
      "outputs": [
        {
          "output_type": "execute_result",
          "data": {
            "text/plain": [
              "['AdaptiveAvgPool1d',\n",
              " 'AdaptiveAvgPool2d',\n",
              " 'AdaptiveAvgPool3d',\n",
              " 'AdaptiveLogSoftmaxWithLoss',\n",
              " 'AdaptiveMaxPool1d',\n",
              " 'AdaptiveMaxPool2d',\n",
              " 'AdaptiveMaxPool3d',\n",
              " 'AlphaDropout',\n",
              " 'AvgPool1d',\n",
              " 'AvgPool2d']"
            ]
          },
          "metadata": {},
          "execution_count": 6
        }
      ]
    },
    {
      "cell_type": "markdown",
      "metadata": {
        "id": "34ox66u1jNBG"
      },
      "source": [
        "Два способа создания нейросети:\n",
        "  1. на основе готового класса `nn.Sequential` объединяющего отдельные слои\n",
        "    - данные передаются по сети в том порядке, в каком объявлены слои\n",
        "    - функции активации задаются как отдельные слои\n",
        "  2. свой класс для нейросети, на основе `nn.Module`\n",
        "    - порядок передачи данных можно менять во время обучения, переопределив forward - динамический граф вычислений\n",
        "\n",
        "Первый способ стоит использовать только как контейнер для ряда слоев. Неросеть нужно наследовать от `nn.Module`.\n"
      ]
    },
    {
      "cell_type": "code",
      "source": [
        "net_seq = nn.Sequential(\n",
        "    nn.Linear(in_features=3, out_features=5),\n",
        "    nn.Sigmoid(),\n",
        "    nn.Linear(in_features=5, out_features=2),                                                            \n",
        ")\n",
        "net_seq.to(device)\n",
        "net_seq"
      ],
      "metadata": {
        "id": "H17RdEIv7aOT",
        "colab": {
          "base_uri": "https://localhost:8080/"
        },
        "outputId": "eca2164b-8c13-43e4-c247-55489bbc1b86"
      },
      "execution_count": 67,
      "outputs": [
        {
          "output_type": "execute_result",
          "data": {
            "text/plain": [
              "Sequential(\n",
              "  (0): Linear(in_features=3, out_features=5, bias=True)\n",
              "  (1): Sigmoid()\n",
              "  (2): Linear(in_features=5, out_features=2, bias=True)\n",
              ")"
            ]
          },
          "metadata": {},
          "execution_count": 67
        }
      ]
    },
    {
      "cell_type": "code",
      "source": [
        "net_seq(x)"
      ],
      "metadata": {
        "id": "v2xerVJ983e_",
        "colab": {
          "base_uri": "https://localhost:8080/"
        },
        "outputId": "935606af-3f8c-4e7d-b2a6-014b8df663df"
      },
      "execution_count": null,
      "outputs": [
        {
          "output_type": "execute_result",
          "data": {
            "text/plain": [
              "tensor([[-0.1382,  0.5466],\n",
              "        [-0.1342,  0.5361]], grad_fn=<AddmmBackward0>)"
            ]
          },
          "metadata": {},
          "execution_count": 13
        }
      ]
    },
    {
      "cell_type": "code",
      "source": [
        "class Model(nn.Module):\n",
        "    def __init__(self):\n",
        "        super().__init__()\n",
        "        self.fc1 = nn.Linear(in_features=3, out_features=5)\n",
        "        self.fc2 = nn.Linear(in_features=5, out_features=2)\n",
        "\n",
        "    def forward(self, x):\n",
        "        x = self.fc1(x)\n",
        "        return F.sigmoid(self.fc2(x))"
      ],
      "metadata": {
        "id": "Xt4BPLs3-7DT"
      },
      "execution_count": 68,
      "outputs": []
    },
    {
      "cell_type": "code",
      "source": [
        "net_model = Model()\n",
        "net_model.to(device)\n",
        "net_model"
      ],
      "metadata": {
        "id": "n7csNM12_UYG",
        "colab": {
          "base_uri": "https://localhost:8080/"
        },
        "outputId": "e2978a6f-bfe8-4ae0-ce52-a3881f0c2b5e"
      },
      "execution_count": 69,
      "outputs": [
        {
          "output_type": "execute_result",
          "data": {
            "text/plain": [
              "Model(\n",
              "  (fc1): Linear(in_features=3, out_features=5, bias=True)\n",
              "  (fc2): Linear(in_features=5, out_features=2, bias=True)\n",
              ")"
            ]
          },
          "metadata": {},
          "execution_count": 69
        }
      ]
    },
    {
      "cell_type": "markdown",
      "source": [
        "## **Задача 1**. Посчитайте количество обучаемых параметров в сети net_seq и net_model."
      ],
      "metadata": {
        "id": "7bIrvcYJ_5jK"
      }
    },
    {
      "cell_type": "code",
      "source": [
        "sum(p.numel() for p in net_model.parameters() if p.requires_grad)"
      ],
      "metadata": {
        "id": "V_yJTNuxwIcl",
        "colab": {
          "base_uri": "https://localhost:8080/"
        },
        "outputId": "6febbf8b-7256-4bef-a303-5ab381bae686"
      },
      "execution_count": 70,
      "outputs": [
        {
          "output_type": "execute_result",
          "data": {
            "text/plain": [
              "32"
            ]
          },
          "metadata": {},
          "execution_count": 70
        }
      ]
    },
    {
      "cell_type": "code",
      "source": [
        "sum(p.numel() for p in net_seq.parameters() if p.requires_grad)"
      ],
      "metadata": {
        "colab": {
          "base_uri": "https://localhost:8080/"
        },
        "id": "fMdU0p19A5TP",
        "outputId": "7fab995f-7429-4845-9795-83246cf9b1bf"
      },
      "execution_count": 71,
      "outputs": [
        {
          "output_type": "execute_result",
          "data": {
            "text/plain": [
              "32"
            ]
          },
          "metadata": {},
          "execution_count": 71
        }
      ]
    },
    {
      "cell_type": "markdown",
      "source": [
        "# Введение в глубокое обучение"
      ],
      "metadata": {
        "id": "-B0jOvkQE4MQ"
      }
    },
    {
      "cell_type": "code",
      "source": [
        "import numpy as np\n",
        "import torch"
      ],
      "metadata": {
        "id": "K3qDkWpcRTWZ"
      },
      "execution_count": null,
      "outputs": []
    },
    {
      "cell_type": "markdown",
      "source": [
        "![alt text](https://drive.google.com/uc?export=view&id=19I2SrQHTO4njMHwCYh8fcaX-qOcKKy2A)"
      ],
      "metadata": {
        "id": "sVIkrL0-ZjpO"
      }
    },
    {
      "cell_type": "markdown",
      "source": [
        "## **Задача 2**. Cделать нейрон, соответствующий оператору НЕ."
      ],
      "metadata": {
        "id": "9P9bWaC9QQJm"
      }
    },
    {
      "cell_type": "code",
      "source": [
        "class NOT(torch.nn.Module):\n",
        "  def __init__(self):\n",
        "    super().__init__()\n",
        "    self.fc = torch.nn.Linear(1, 1)\n",
        "\n",
        "  def forward(self, x):\n",
        "    return torch.heaviside(self.fc(x), torch.tensor([0.0]))"
      ],
      "metadata": {
        "id": "Hh8sSJkEWNmT"
      },
      "execution_count": 60,
      "outputs": []
    },
    {
      "cell_type": "code",
      "source": [
        "not_neuron = NOT()\n",
        "not_neuron.fc.weight, not_neuron.fc.bias"
      ],
      "metadata": {
        "id": "r9HoH1koVQXi"
      },
      "execution_count": null,
      "outputs": []
    },
    {
      "cell_type": "code",
      "source": [
        "not_neuron.fc.weight.data = torch.tensor([[-1.0]])\n",
        "not_neuron.fc.bias.data = torch.tensor([1.0])"
      ],
      "metadata": {
        "id": "MLmGhtWFTYlV"
      },
      "execution_count": 62,
      "outputs": []
    },
    {
      "cell_type": "markdown",
      "source": [
        "Проверка"
      ],
      "metadata": {
        "id": "QTjMjp6h-ufD"
      }
    },
    {
      "cell_type": "code",
      "source": [
        "not_neuron(torch.tensor([0.0]))"
      ],
      "metadata": {
        "id": "UFr5InkDTf-r",
        "colab": {
          "base_uri": "https://localhost:8080/"
        },
        "outputId": "24882a69-c14d-486d-abfa-160d43d2ed87"
      },
      "execution_count": 63,
      "outputs": [
        {
          "output_type": "execute_result",
          "data": {
            "text/plain": [
              "tensor([1.], grad_fn=<NotImplemented>)"
            ]
          },
          "metadata": {},
          "execution_count": 63
        }
      ]
    },
    {
      "cell_type": "code",
      "source": [
        "not_neuron(torch.tensor([1.0]))"
      ],
      "metadata": {
        "colab": {
          "base_uri": "https://localhost:8080/"
        },
        "id": "W95FN1OO-s6j",
        "outputId": "3578f3c4-7ffb-43d6-f5ab-cb467702ab6c"
      },
      "execution_count": 64,
      "outputs": [
        {
          "output_type": "execute_result",
          "data": {
            "text/plain": [
              "tensor([0.], grad_fn=<NotImplemented>)"
            ]
          },
          "metadata": {},
          "execution_count": 64
        }
      ]
    },
    {
      "cell_type": "markdown",
      "source": [
        "## **Задача 3**. Cделать нейрон, соответствующий оператору И."
      ],
      "metadata": {
        "id": "TRxJxcRJQsMz"
      }
    },
    {
      "cell_type": "code",
      "source": [
        "class Neuron(torch.nn.Module):\n",
        "  def __init__(self):\n",
        "    super().__init__()\n",
        "    self.fc = torch.nn.Linear(2, 1)\n",
        "\n",
        "  def forward(self, x):\n",
        "    return torch.heaviside(self.fc(x), torch.tensor([1.0]))"
      ],
      "metadata": {
        "id": "7dvDtA7HX3V6"
      },
      "execution_count": 73,
      "outputs": []
    },
    {
      "cell_type": "code",
      "source": [
        "neuron = Neuron()\n",
        "neuron.fc.weight.data = torch.tensor([[0.5, 0.5]])\n",
        "neuron.fc.bias.data = torch.tensor([-1.0])"
      ],
      "metadata": {
        "id": "kAtwMX7HQ0aj"
      },
      "execution_count": 85,
      "outputs": []
    },
    {
      "cell_type": "markdown",
      "source": [
        "Проверка"
      ],
      "metadata": {
        "id": "fM6soyoR89mP"
      }
    },
    {
      "cell_type": "code",
      "source": [
        "neuron(torch.tensor([0.0, 0.0]))"
      ],
      "metadata": {
        "id": "P27EdNkrXloh",
        "colab": {
          "base_uri": "https://localhost:8080/"
        },
        "outputId": "02c55d49-aaae-49af-b07b-c9a619dda83f"
      },
      "execution_count": 86,
      "outputs": [
        {
          "output_type": "execute_result",
          "data": {
            "text/plain": [
              "tensor([0.], grad_fn=<NotImplemented>)"
            ]
          },
          "metadata": {},
          "execution_count": 86
        }
      ]
    },
    {
      "cell_type": "code",
      "source": [
        "neuron(torch.tensor([1.0, 0.0]))"
      ],
      "metadata": {
        "colab": {
          "base_uri": "https://localhost:8080/"
        },
        "id": "2QONv4Tp8F1v",
        "outputId": "20a55cd9-8e3f-4cce-de79-7c499f0301aa"
      },
      "execution_count": 88,
      "outputs": [
        {
          "output_type": "execute_result",
          "data": {
            "text/plain": [
              "tensor([0.], grad_fn=<NotImplemented>)"
            ]
          },
          "metadata": {},
          "execution_count": 88
        }
      ]
    },
    {
      "cell_type": "code",
      "source": [
        "neuron(torch.tensor([0.0, 1.0]))"
      ],
      "metadata": {
        "colab": {
          "base_uri": "https://localhost:8080/"
        },
        "id": "bwfH4mRH8OS-",
        "outputId": "1f7ae64c-6b48-48aa-a7ea-36a84aa52842"
      },
      "execution_count": 89,
      "outputs": [
        {
          "output_type": "execute_result",
          "data": {
            "text/plain": [
              "tensor([0.], grad_fn=<NotImplemented>)"
            ]
          },
          "metadata": {},
          "execution_count": 89
        }
      ]
    },
    {
      "cell_type": "code",
      "source": [
        "neuron(torch.tensor([1.0, 1.0]))"
      ],
      "metadata": {
        "colab": {
          "base_uri": "https://localhost:8080/"
        },
        "id": "ao4zJi-Z8UKo",
        "outputId": "02ff2052-30a4-4bf4-cc1e-e699a3230a59"
      },
      "execution_count": 87,
      "outputs": [
        {
          "output_type": "execute_result",
          "data": {
            "text/plain": [
              "tensor([1.], grad_fn=<NotImplemented>)"
            ]
          },
          "metadata": {},
          "execution_count": 87
        }
      ]
    },
    {
      "cell_type": "markdown",
      "source": [
        "## **Задача 4**. Cделать нейрон, соответствующий оператору ИЛИ."
      ],
      "metadata": {
        "id": "MRuSrP7JQ00i"
      }
    },
    {
      "cell_type": "code",
      "source": [
        "class Neuron(torch.nn.Module):\n",
        "  def __init__(self):\n",
        "    super().__init__()\n",
        "    self.fc = torch.nn.Linear(2, 1)\n",
        "\n",
        "  def forward(self, x):\n",
        "    return torch.heaviside(self.fc(x), torch.tensor([0.0]))"
      ],
      "metadata": {
        "id": "CTmk_9jGDBvp"
      },
      "execution_count": 93,
      "outputs": []
    },
    {
      "cell_type": "code",
      "source": [
        "neuron = Neuron()\n",
        "neuron.fc.weight.data = torch.tensor([[1.0, 1.0]])\n",
        "neuron.fc.bias.data = torch.tensor([0.0])"
      ],
      "metadata": {
        "id": "23RuhFqbQ24-"
      },
      "execution_count": 94,
      "outputs": []
    },
    {
      "cell_type": "markdown",
      "source": [
        "Проверка"
      ],
      "metadata": {
        "id": "WLGG6C2KDEhu"
      }
    },
    {
      "cell_type": "code",
      "source": [
        "neuron(torch.tensor([0.0, 0.0]))"
      ],
      "metadata": {
        "colab": {
          "base_uri": "https://localhost:8080/"
        },
        "outputId": "8a56baf7-0a99-4c58-e84a-48b06e67ae65",
        "id": "U7U7OvfQDEhv"
      },
      "execution_count": 95,
      "outputs": [
        {
          "output_type": "execute_result",
          "data": {
            "text/plain": [
              "tensor([0.], grad_fn=<NotImplemented>)"
            ]
          },
          "metadata": {},
          "execution_count": 95
        }
      ]
    },
    {
      "cell_type": "code",
      "source": [
        "neuron(torch.tensor([1.0, 0.0]))"
      ],
      "metadata": {
        "colab": {
          "base_uri": "https://localhost:8080/"
        },
        "outputId": "0b9d1166-abef-4ead-e165-818b6215143c",
        "id": "gQEUubURDEhv"
      },
      "execution_count": 96,
      "outputs": [
        {
          "output_type": "execute_result",
          "data": {
            "text/plain": [
              "tensor([1.], grad_fn=<NotImplemented>)"
            ]
          },
          "metadata": {},
          "execution_count": 96
        }
      ]
    },
    {
      "cell_type": "code",
      "source": [
        "neuron(torch.tensor([0.0, 1.0]))"
      ],
      "metadata": {
        "colab": {
          "base_uri": "https://localhost:8080/"
        },
        "outputId": "4506461a-14ff-4bc6-beea-d5744ee339ed",
        "id": "cM48EE7ADEhw"
      },
      "execution_count": 97,
      "outputs": [
        {
          "output_type": "execute_result",
          "data": {
            "text/plain": [
              "tensor([1.], grad_fn=<NotImplemented>)"
            ]
          },
          "metadata": {},
          "execution_count": 97
        }
      ]
    },
    {
      "cell_type": "code",
      "source": [
        "neuron(torch.tensor([1.0, 1.0]))"
      ],
      "metadata": {
        "colab": {
          "base_uri": "https://localhost:8080/"
        },
        "outputId": "6a596433-a7b1-41e7-ff60-7fba59be0eff",
        "id": "wa278TVLDEhw"
      },
      "execution_count": 98,
      "outputs": [
        {
          "output_type": "execute_result",
          "data": {
            "text/plain": [
              "tensor([1.], grad_fn=<NotImplemented>)"
            ]
          },
          "metadata": {},
          "execution_count": 98
        }
      ]
    },
    {
      "cell_type": "markdown",
      "source": [
        "## **Задача 5**. Cделать нейрон, соответствующий оператору XOR."
      ],
      "metadata": {
        "id": "1b95Z8u7Q3OL"
      }
    },
    {
      "cell_type": "markdown",
      "source": [
        "XOR нельзя сделать на одном нейроне, нужно два слоя"
      ],
      "metadata": {
        "id": "V-fF8iJ2O9a_"
      }
    },
    {
      "cell_type": "code",
      "source": [
        "class Neuron(torch.nn.Module):\n",
        "  def __init__(self):\n",
        "    super().__init__()\n",
        "    self.fc1 = torch.nn.Linear(2, 2)\n",
        "    self.fc2 = torch.nn.Linear(2, 1)\n",
        "\n",
        "  def forward(self, x):\n",
        "    x = self.fc1(x)\n",
        "    x = torch.heaviside(x, torch.tensor([0.0]))\n",
        "    x = self.fc2(x)\n",
        "    x = torch.heaviside(x, torch.tensor([0.0]))\n",
        "    return x"
      ],
      "metadata": {
        "id": "oqfsQhGQEVFQ"
      },
      "execution_count": 21,
      "outputs": []
    },
    {
      "cell_type": "code",
      "source": [
        "neuron = Neuron()\n",
        "\n",
        "neuron.fc1.weight.data = torch.tensor([[1.0, 1.0], [1.0, 1.0]])\n",
        "neuron.fc1.bias.data = torch.tensor([-1.5, -0.5])\n",
        "\n",
        "neuron.fc2.weight.data = torch.tensor([[-1.0, 1.0]])\n",
        "neuron.fc2.bias.data = torch.tensor([-0.5])"
      ],
      "metadata": {
        "id": "6H6vkK4VEVFR"
      },
      "execution_count": 22,
      "outputs": []
    },
    {
      "cell_type": "markdown",
      "source": [
        "Проверка"
      ],
      "metadata": {
        "id": "w9p63lu2ESPV"
      }
    },
    {
      "cell_type": "code",
      "source": [
        "neuron(torch.tensor([0.0, 0.0]))"
      ],
      "metadata": {
        "colab": {
          "base_uri": "https://localhost:8080/"
        },
        "outputId": "4bc586c8-9930-4908-8161-9590e2949371",
        "id": "GSU-0fS8ESPW"
      },
      "execution_count": 23,
      "outputs": [
        {
          "output_type": "execute_result",
          "data": {
            "text/plain": [
              "tensor([0.], grad_fn=<NotImplemented>)"
            ]
          },
          "metadata": {},
          "execution_count": 23
        }
      ]
    },
    {
      "cell_type": "code",
      "source": [
        "neuron(torch.tensor([1.0, 0.0]))"
      ],
      "metadata": {
        "colab": {
          "base_uri": "https://localhost:8080/"
        },
        "outputId": "7eabeef5-7ad1-4f3b-e5f0-1943ee6b8203",
        "id": "S8rLCPHIESPW"
      },
      "execution_count": 24,
      "outputs": [
        {
          "output_type": "execute_result",
          "data": {
            "text/plain": [
              "tensor([1.], grad_fn=<NotImplemented>)"
            ]
          },
          "metadata": {},
          "execution_count": 24
        }
      ]
    },
    {
      "cell_type": "code",
      "source": [
        "neuron(torch.tensor([0.0, 1.0]))"
      ],
      "metadata": {
        "colab": {
          "base_uri": "https://localhost:8080/"
        },
        "outputId": "657792e4-9d64-423d-b805-855d41469bd0",
        "id": "Uk7BCpveESPX"
      },
      "execution_count": 25,
      "outputs": [
        {
          "output_type": "execute_result",
          "data": {
            "text/plain": [
              "tensor([1.], grad_fn=<NotImplemented>)"
            ]
          },
          "metadata": {},
          "execution_count": 25
        }
      ]
    },
    {
      "cell_type": "code",
      "source": [
        "neuron(torch.tensor([1.0, 1.0]))"
      ],
      "metadata": {
        "colab": {
          "base_uri": "https://localhost:8080/"
        },
        "outputId": "d64a51e5-5bb2-4d89-b58e-2a726c71a804",
        "id": "tjBeoXCJESPX"
      },
      "execution_count": 26,
      "outputs": [
        {
          "output_type": "execute_result",
          "data": {
            "text/plain": [
              "tensor([0.], grad_fn=<NotImplemented>)"
            ]
          },
          "metadata": {},
          "execution_count": 26
        }
      ]
    },
    {
      "cell_type": "markdown",
      "source": [
        "## **Вопрос 1**. Какие нейронные сети могут иметь только линейную разделяющую поверхность?"
      ],
      "metadata": {
        "id": "OiPV2u5zfwyo"
      }
    },
    {
      "cell_type": "markdown",
      "source": [
        "Нейронные сети без функций активации"
      ],
      "metadata": {
        "id": "eNi4IwB8f9yK"
      }
    },
    {
      "cell_type": "markdown",
      "source": [
        "## **Вопрос 2**. Имеет ли смысл соединять полносвязанные нейроны (нейроны, которые принимают на вход все выходы предыдущего слоя) с линейной функцией активации в многослойную нейронную сеть?"
      ],
      "metadata": {
        "id": "uEf1aXsdgLBh"
      }
    },
    {
      "cell_type": "markdown",
      "source": [
        "Нет, потому что вся нейронная сеть все равно будет подобна одному слою с линейной функцией активации (комбинация линейных функций линейным образом — другая линейная функция)."
      ],
      "metadata": {
        "id": "Jy06MWy-gQCh"
      }
    },
    {
      "cell_type": "markdown",
      "source": [
        "# Домашнее задание"
      ],
      "metadata": {
        "id": "DJ9Uxo7DEns4"
      }
    },
    {
      "cell_type": "markdown",
      "source": [
        "Дедлайн домашнего задания - текущее воскресенье 23:59. "
      ],
      "metadata": {
        "id": "3hbaklz_96EN"
      }
    },
    {
      "cell_type": "markdown",
      "source": [
        "**Домашнее задание 0:** Создайте репозиторий на Github. Вся дальнейшая домашка загружается туда. Чуть позже в телеграм чате будет выложена форма для сдачи."
      ],
      "metadata": {
        "id": "E7VzrzlHyyci"
      }
    },
    {
      "cell_type": "markdown",
      "source": [
        "**Домашнее задание 1:** реализуйте XOR с помощью 3 нейронов. Запишите ответ в виде выражения, состоящего из объектов neuron() – моделей нейрона с пороговой функцией активации, внутри скобок может быть что угодно. Входы верхнего уровня называются x1 и x2. Пример фрагмента записи: neuron(1*x1 + 5*x2 - 0.1) + neuron(x1) (ответ будет выглядеть чуть сложнее, но других символов вроде && не потребуется)."
      ],
      "metadata": {
        "id": "me6riR-YEuYg"
      }
    },
    {
      "cell_type": "code",
      "source": [
        "class Neuron(torch.nn.Module):\n",
        "    def init(self):\n",
        "        super().init()\n",
        "    def forward(self, x):\n",
        "        return torch.heaviside(x, torch.tensor([0.0]))"
      ],
      "metadata": {
        "id": "2a-VLdMTQhTo"
      },
      "execution_count": 27,
      "outputs": []
    },
    {
      "cell_type": "code",
      "source": [
        "neuron = Neuron()"
      ],
      "metadata": {
        "id": "gan2vLPPQz7v"
      },
      "execution_count": 28,
      "outputs": []
    },
    {
      "cell_type": "code",
      "source": [
        "def xor(x1, x2):\n",
        "    return neuron(neuron(x1 + x2 - 0.5) - neuron(x1 + x2 - 1.5) - 0.5)"
      ],
      "metadata": {
        "id": "9jbuo3gbQiV8"
      },
      "execution_count": 36,
      "outputs": []
    },
    {
      "cell_type": "markdown",
      "source": [
        "Проверка"
      ],
      "metadata": {
        "id": "u8viDFsnQ5R0"
      }
    },
    {
      "cell_type": "code",
      "source": [
        "xor(torch.tensor([0.0]), torch.tensor([0.0]))"
      ],
      "metadata": {
        "colab": {
          "base_uri": "https://localhost:8080/"
        },
        "outputId": "d93d33b4-ed9d-4855-e1ac-62193c4f255b",
        "id": "oIlneiANQ5R0"
      },
      "execution_count": 32,
      "outputs": [
        {
          "output_type": "execute_result",
          "data": {
            "text/plain": [
              "tensor([0.])"
            ]
          },
          "metadata": {},
          "execution_count": 32
        }
      ]
    },
    {
      "cell_type": "code",
      "source": [
        "xor(torch.tensor([0.0]), torch.tensor([1.0]))"
      ],
      "metadata": {
        "colab": {
          "base_uri": "https://localhost:8080/"
        },
        "outputId": "a6106e0c-a007-4c31-df38-f75bfd01c3b9",
        "id": "TAcAmuP9Q5R1"
      },
      "execution_count": 33,
      "outputs": [
        {
          "output_type": "execute_result",
          "data": {
            "text/plain": [
              "tensor([1.])"
            ]
          },
          "metadata": {},
          "execution_count": 33
        }
      ]
    },
    {
      "cell_type": "code",
      "source": [
        "xor(torch.tensor([1.0]), torch.tensor([0.0]))"
      ],
      "metadata": {
        "colab": {
          "base_uri": "https://localhost:8080/"
        },
        "outputId": "6342f96e-ca40-41fe-c1dd-b777422cf239",
        "id": "8CVMGkOmQ5R1"
      },
      "execution_count": 34,
      "outputs": [
        {
          "output_type": "execute_result",
          "data": {
            "text/plain": [
              "tensor([1.])"
            ]
          },
          "metadata": {},
          "execution_count": 34
        }
      ]
    },
    {
      "cell_type": "code",
      "source": [
        "xor(torch.tensor([1.0]), torch.tensor([1.0]))"
      ],
      "metadata": {
        "colab": {
          "base_uri": "https://localhost:8080/"
        },
        "outputId": "2af9c2cf-d5be-4502-c3f3-5ef9c8f428ba",
        "id": "6-cY7l7rQ5R1"
      },
      "execution_count": 35,
      "outputs": [
        {
          "output_type": "execute_result",
          "data": {
            "text/plain": [
              "tensor([0.])"
            ]
          },
          "metadata": {},
          "execution_count": 35
        }
      ]
    },
    {
      "cell_type": "markdown",
      "source": [
        "**Домашнее задание 2:** нарисуйте backward граф для выражения `a*b+c*d`. [Теория и пример оформления](https://www.youtube.com/watch?v=MswxJw-8PvE). Сравните полученные теоретические значения с аттрибутами grad у исходных тензоров."
      ],
      "metadata": {
        "id": "UQmVNc2kEyQP"
      }
    },
    {
      "cell_type": "markdown",
      "source": [
        "![image.png](data:image/png;base64,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)"
      ],
      "metadata": {
        "id": "Fbw5EVFDsPzM"
      }
    },
    {
      "cell_type": "code",
      "source": [
        "a = torch.tensor([2.0], requires_grad=True)\n",
        "b = torch.tensor([4.0], requires_grad=True)\n",
        "c = torch.tensor([1.0], requires_grad=True)\n",
        "d = torch.tensor([5.0], requires_grad=False)"
      ],
      "metadata": {
        "id": "rHAT-rNxnh-X"
      },
      "execution_count": 50,
      "outputs": []
    },
    {
      "cell_type": "code",
      "source": [
        "a.grad, b.grad, c.grad, d.grad"
      ],
      "metadata": {
        "id": "yQUF6a8rnjyF",
        "colab": {
          "base_uri": "https://localhost:8080/"
        },
        "outputId": "05465868-02aa-4128-be23-ff620c94af5b"
      },
      "execution_count": 51,
      "outputs": [
        {
          "output_type": "execute_result",
          "data": {
            "text/plain": [
              "(None, None, None, None)"
            ]
          },
          "metadata": {},
          "execution_count": 51
        }
      ]
    },
    {
      "cell_type": "code",
      "source": [
        "loss = a*b + c*d\n",
        "loss.backward()"
      ],
      "metadata": {
        "id": "WQewq5DCnnPF"
      },
      "execution_count": 52,
      "outputs": []
    },
    {
      "cell_type": "code",
      "source": [
        "a.grad, b.grad, c.grad, d.grad"
      ],
      "metadata": {
        "id": "tDxWZCwQnojN",
        "colab": {
          "base_uri": "https://localhost:8080/"
        },
        "outputId": "2845e533-7db0-4255-bf7f-11d1f2f9bc2e"
      },
      "execution_count": 53,
      "outputs": [
        {
          "output_type": "execute_result",
          "data": {
            "text/plain": [
              "(tensor([4.]), tensor([2.]), tensor([5.]), None)"
            ]
          },
          "metadata": {},
          "execution_count": 53
        }
      ]
    },
    {
      "cell_type": "markdown",
      "source": [
        "**Домашнее задание 3:** Поэксперементируйте с размером тензоров, которые влезут на видеоркарту в Colab. Найдите максимальный размер тензора для типа данных float32, float64, float16, int32, int64. На сколько они отличаются."
      ],
      "metadata": {
        "id": "NxKEOwWDwv3Y"
      }
    },
    {
      "cell_type": "code",
      "source": [
        "import gc"
      ],
      "metadata": {
        "id": "99fxUFx2T8NO"
      },
      "execution_count": 40,
      "outputs": []
    },
    {
      "cell_type": "code",
      "source": [
        "def clear():\n",
        "    global a\n",
        "    del a\n",
        "    gc.collect()\n",
        "    torch.cuda.empty_cache()"
      ],
      "metadata": {
        "id": "c0hF163bUCVW"
      },
      "execution_count": 117,
      "outputs": []
    },
    {
      "cell_type": "code",
      "source": [
        "def check_memory():\n",
        "    print(torch.cuda.memory_reserved())\n",
        "    print(torch.cuda.memory_allocated())"
      ],
      "metadata": {
        "id": "vdoqsjfhUSMR"
      },
      "execution_count": 30,
      "outputs": []
    },
    {
      "cell_type": "code",
      "source": [
        "check_memory()"
      ],
      "metadata": {
        "colab": {
          "base_uri": "https://localhost:8080/"
        },
        "id": "pZ0d-X0WUdlv",
        "outputId": "cab7b616-317d-4dbf-c8b9-7c2d3bc24c58"
      },
      "execution_count": 143,
      "outputs": [
        {
          "output_type": "stream",
          "name": "stdout",
          "text": [
            "2097152\n",
            "512\n"
          ]
        }
      ]
    },
    {
      "cell_type": "code",
      "source": [
        "clear()"
      ],
      "metadata": {
        "id": "liGAbujiUgeX"
      },
      "execution_count": 148,
      "outputs": []
    },
    {
      "cell_type": "code",
      "source": [
        "a = torch.zeros(7_000_000_000, \n",
        "                dtype=torch.float16, \n",
        "                device='cuda')"
      ],
      "metadata": {
        "id": "fckdG8TlVb7_"
      },
      "execution_count": 138,
      "outputs": []
    },
    {
      "cell_type": "code",
      "source": [
        "a = torch.zeros(7_000_000_000 // 2, \n",
        "                dtype=torch.float32, \n",
        "                device='cuda')"
      ],
      "metadata": {
        "id": "lduXNqC5Vbc9"
      },
      "execution_count": 140,
      "outputs": []
    },
    {
      "cell_type": "code",
      "source": [
        "a = torch.zeros(7_000_000_000 // 4, \n",
        "                dtype=torch.float64, \n",
        "                device='cuda')"
      ],
      "metadata": {
        "id": "uf4QWW_aVnv_"
      },
      "execution_count": 144,
      "outputs": []
    },
    {
      "cell_type": "code",
      "source": [
        "a = torch.zeros(7_000_000_000 // 2,\n",
        "                dtype=torch.int32, \n",
        "                device='cuda')"
      ],
      "metadata": {
        "id": "8nnSa86eVa3H"
      },
      "execution_count": 147,
      "outputs": []
    },
    {
      "cell_type": "code",
      "source": [
        "a = torch.zeros(7_000_000_000 // 4,\n",
        "                dtype=torch.int64, \n",
        "                device='cuda')"
      ],
      "metadata": {
        "id": "F8vzwIHyRbul"
      },
      "execution_count": 149,
      "outputs": []
    },
    {
      "cell_type": "markdown",
      "source": [
        "**Домашнее задание 4:** Напишите хороший пример неэффективного кода для занятия памяти видеокарты, который вызовет ошибку out of memory"
      ],
      "metadata": {
        "id": "CBR5pWOlzOtl"
      }
    },
    {
      "cell_type": "markdown",
      "source": [
        "не знаю..."
      ],
      "metadata": {
        "id": "J9eIjqqHh7Lh"
      }
    },
    {
      "cell_type": "markdown",
      "source": [
        "**Домашнее задание 5:** Используя один линейный слой `nn.Linear` и один входной тензор `x` подберите подберите размерности так, чтобы занимать всю видеопамять.\n",
        "Попробуйте применить линейный слой к тензору `x`. Что произойдет? Кратко опишите ваши эксперименты. Что вы поняли?"
      ],
      "metadata": {
        "id": "0_hOtvvR89jq"
      }
    },
    {
      "cell_type": "code",
      "source": [
        "n = 1_000_000_000"
      ],
      "metadata": {
        "id": "Re8Se4C9YRX-"
      },
      "execution_count": 27,
      "outputs": []
    },
    {
      "cell_type": "code",
      "source": [
        "check_memory()"
      ],
      "metadata": {
        "colab": {
          "base_uri": "https://localhost:8080/"
        },
        "id": "VVpcQ6LraZno",
        "outputId": "9fa4e4fc-6131-4a1f-df0f-5321070797a6"
      },
      "execution_count": 49,
      "outputs": [
        {
          "output_type": "stream",
          "name": "stdout",
          "text": [
            "8004829184\n",
            "8000001024\n"
          ]
        }
      ]
    },
    {
      "cell_type": "code",
      "source": [
        "del x"
      ],
      "metadata": {
        "id": "ZQj_TgCKagOH"
      },
      "execution_count": null,
      "outputs": []
    },
    {
      "cell_type": "code",
      "source": [
        "del linear"
      ],
      "metadata": {
        "id": "HyxN5EkwYjZH"
      },
      "execution_count": null,
      "outputs": []
    },
    {
      "cell_type": "code",
      "source": [
        "gc.collect()\n",
        "torch.cuda.empty_cache()"
      ],
      "metadata": {
        "id": "DwlPhks9Z10n"
      },
      "execution_count": 44,
      "outputs": []
    },
    {
      "cell_type": "code",
      "source": [
        "linear = torch.nn.Linear(n, 1, device='cuda')"
      ],
      "metadata": {
        "id": "u9HRf_hRRdO_"
      },
      "execution_count": 28,
      "outputs": []
    },
    {
      "cell_type": "code",
      "source": [
        "x = torch.rand(n, device='cuda')"
      ],
      "metadata": {
        "id": "aw-VWXnwXXdY"
      },
      "execution_count": 32,
      "outputs": []
    },
    {
      "cell_type": "code",
      "source": [
        "linear(x)"
      ],
      "metadata": {
        "colab": {
          "base_uri": "https://localhost:8080/"
        },
        "id": "Prxe8wnzYNrY",
        "outputId": "0031b9be-9960-487c-90ee-d12148c81957"
      },
      "execution_count": 34,
      "outputs": [
        {
          "output_type": "execute_result",
          "data": {
            "text/plain": [
              "tensor([-0.1739], device='cuda:0', grad_fn=<AddBackward0>)"
            ]
          },
          "metadata": {},
          "execution_count": 34
        }
      ]
    },
    {
      "cell_type": "markdown",
      "source": [
        "Главное что я поняла, это что есть проблемы с очищением памяти.\n",
        "\n",
        "Но в теории, если на выходе размерность порядка 1, то операция выполнится, но если порядка n, то памяти не хватит на создание выходного тензора."
      ],
      "metadata": {
        "id": "o_J9P3jkbrmD"
      }
    },
    {
      "cell_type": "markdown",
      "source": [
        "# Рекомендуемые ссылки"
      ],
      "metadata": {
        "id": "_Z2Ot37UODKM"
      }
    },
    {
      "cell_type": "markdown",
      "source": [
        "- [Нейронные сети и компьютерное зрение, Samsung AI Center, часть 1](https://stepik.org/course/50352/syllabus)\n",
        "- [Cимулятор](https://playground.tensorflow.org/) нейронов и нейронных сетей"
      ],
      "metadata": {
        "id": "SnFY95T7kNji"
      }
    }
  ]
}